{
 "cells": [
  {
   "cell_type": "code",
   "execution_count": null,
   "metadata": {},
   "outputs": [],
   "source": [
    "from selenium import webdriver\n",
    "from webdriver_manager.microsoft import EdgeChromiumDriverManager\n",
    "from selenium.webdriver.common.keys import Keys\n",
    "import pandas as pd\n",
    "import time\n",
    "\n",
    "browser = webdriver.Edge(EdgeChromiumDriverManager().install())\n",
    "\n",
    "# Access the website with the most popular stocks\n",
    "link = 'https://br.investing.com/equities/trending-stocks'\n",
    "browser.get(link)\n"
   ]
  },
  {
   "cell_type": "code",
   "execution_count": null,
   "metadata": {},
   "outputs": [],
   "source": [
    "# Get the table with the most popular stocks\n",
    "table = (browser.find_element_by_xpath('//*[@id=\"trendingInnerContent\"]/table').text)\n",
    "table = table.split(sep='\\n')\n",
    "# Remove the unnecessary spaces and the title of the table\n",
    "filter_data = []\n",
    "for item in table:\n",
    "    item = item.split(' ')\n",
    "    filtered = [x for x in item if x.strip()]\n",
    "    filter_data.append(filtered)\n",
    "    \n",
    "del(filter_data[0])"
   ]
  },
  {
   "cell_type": "code",
   "execution_count": null,
   "metadata": {},
   "outputs": [],
   "source": [
    "# Separate stock names from indexes\n",
    "names = []\n",
    "indexes = []\n",
    "for item in filter_data:\n",
    "    name = \" \".join(item[:-7])\n",
    "    names.append(name)\n",
    "    index = item[-7:]\n",
    "    indexes.append(index)"
   ]
  },
  {
   "cell_type": "code",
   "execution_count": null,
   "metadata": {},
   "outputs": [],
   "source": [
    "# Putting it all together on a table\n",
    "data_joint = []\n",
    "for name, index in zip(names, indexes):\n",
    "    dj = [name] + index\n",
    "    data_joint.append(dj)\n",
    "    \n",
    "tb = pd.DataFrame(data_joint)\n",
    "tb.columns = ['Nome', 'Último', 'Máxima', 'Mínima', 'Variação', 'Var.%', 'Vol.', 'Hora']\n",
    "tb.to_excel('Atualizado.xlsx', index=False)"
   ]
  },
  {
   "cell_type": "code",
   "execution_count": null,
   "metadata": {},
   "outputs": [],
   "source": [
    "#Send an e-mail to client with the stock table\n",
    "import smtplib\n",
    "from email import encoders\n",
    "from email.mime.base import MIMEBase\n",
    "from email.mime.multipart import MIMEMultipart\n",
    "from email.mime.text import MIMEText\n",
    "\n",
    "user = 'programtest45@gmail.com'\n",
    "receiver = 'send.email4545@gmail.com'\n",
    "subject = 'Planilha Atualizada das Ações Mais Populares'\n",
    "\n",
    "msg = MIMEMultipart()\n",
    "msg['From'] = user\n",
    "msg['To'] = receiver\n",
    "msg['Subject'] = subject\n",
    "\n",
    "body = \"\"\"Prezado(a), <br>\n",
    "\n",
    "Segue em anexo a planilha das ações mais populares, decida sabiamente! <br><br>\n",
    "\n",
    "Atenciosamente,<br>\n",
    "\n",
    "Seu ajudante\"\"\"\n",
    "msg.attach(MIMEText(body, 'html', 'utf-8'))\n",
    "\n",
    "# Attaching the file\n",
    "file = './Atualizado.xlsx'\n",
    "attachment = open(file, 'rb')\n",
    "\n",
    "part = MIMEBase('application', \"octet-stream\")\n",
    "part.set_payload(attachment.read())\n",
    "encoders.encode_base64(part)\n",
    "part.add_header('Content-Disposition', 'attachment; filename=\"Atualizado.xlsx\"')\n",
    "msg.attach(part)\n",
    "\n",
    "#Sending\n",
    "text = msg.as_string()\n",
    "server = smtplib.SMTP_SSL('smtp.gmail.com', 465)\n",
    "server.login(user, 'test.program')\n",
    "\n",
    "server.sendmail(user, receiver, text)\n",
    "server.quit()"
   ]
  },
  {
   "cell_type": "code",
   "execution_count": null,
   "metadata": {},
   "outputs": [],
   "source": []
  }
 ],
 "metadata": {
  "kernelspec": {
   "display_name": "Python 3",
   "language": "python",
   "name": "python3"
  },
  "language_info": {
   "codemirror_mode": {
    "name": "ipython",
    "version": 3
   },
   "file_extension": ".py",
   "mimetype": "text/x-python",
   "name": "python",
   "nbconvert_exporter": "python",
   "pygments_lexer": "ipython3",
   "version": "3.8.5"
  }
 },
 "nbformat": 4,
 "nbformat_minor": 4
}
